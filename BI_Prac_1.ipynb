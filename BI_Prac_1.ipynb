{
  "nbformat": 4,
  "nbformat_minor": 0,
  "metadata": {
    "colab": {
      "name": "BI Prac 1.ipynb",
      "provenance": [],
      "collapsed_sections": [],
      "authorship_tag": "ABX9TyMlrmxx6uhU0jEIE4lBKx+4",
      "include_colab_link": true
    },
    "kernelspec": {
      "name": "python3",
      "display_name": "Python 3"
    }
  },
  "cells": [
    {
      "cell_type": "markdown",
      "metadata": {
        "id": "view-in-github",
        "colab_type": "text"
      },
      "source": [
        "<a href=\"https://colab.research.google.com/github/smayuresh09/Playground/blob/master/BI_Prac_1.ipynb\" target=\"_parent\"><img src=\"https://colab.research.google.com/assets/colab-badge.svg\" alt=\"Open In Colab\"/></a>"
      ]
    },
    {
      "cell_type": "code",
      "metadata": {
        "id": "hEJyHn480QaU"
      },
      "source": [
        "import pandas as pd\r\n",
        "import seaborn as sns"
      ],
      "execution_count": 1,
      "outputs": []
    },
    {
      "cell_type": "code",
      "metadata": {
        "id": "LCHovfER1Nct"
      },
      "source": [
        "df = pd.read_excel(\"/content/train.xlsx\")"
      ],
      "execution_count": 2,
      "outputs": []
    },
    {
      "cell_type": "code",
      "metadata": {
        "id": "UlRNW4ke1pj4"
      },
      "source": [
        "df.head()"
      ],
      "execution_count": null,
      "outputs": []
    },
    {
      "cell_type": "code",
      "metadata": {
        "colab": {
          "base_uri": "https://localhost:8080/"
        },
        "id": "NEd2o3-Z2V3z",
        "outputId": "0bf54d46-e737-4517-ae1f-e90d2e903584"
      },
      "source": [
        "df.shape"
      ],
      "execution_count": 5,
      "outputs": [
        {
          "output_type": "execute_result",
          "data": {
            "text/plain": [
              "(3998, 39)"
            ]
          },
          "metadata": {
            "tags": []
          },
          "execution_count": 5
        }
      ]
    },
    {
      "cell_type": "code",
      "metadata": {
        "colab": {
          "base_uri": "https://localhost:8080/"
        },
        "id": "BSPuWJXI2xF6",
        "outputId": "02a7bef7-69f2-48b0-8cfd-82de279faef6"
      },
      "source": [
        "df.isnull().sum()"
      ],
      "execution_count": 6,
      "outputs": [
        {
          "output_type": "execute_result",
          "data": {
            "text/plain": [
              "Unnamed: 0               0\n",
              "ID                       0\n",
              "Salary                   0\n",
              "DOJ                      0\n",
              "DOL                      0\n",
              "Designation              0\n",
              "JobCity                  0\n",
              "Gender                   0\n",
              "DOB                      0\n",
              "10percentage             0\n",
              "10board                  0\n",
              "12graduation             0\n",
              "12percentage             0\n",
              "12board                  0\n",
              "CollegeID                0\n",
              "CollegeTier              0\n",
              "Degree                   0\n",
              "Specialization           0\n",
              "collegeGPA               0\n",
              "CollegeCityID            0\n",
              "CollegeCityTier          0\n",
              "CollegeState             0\n",
              "GraduationYear           0\n",
              "English                  0\n",
              "Logical                  0\n",
              "Quant                    0\n",
              "Domain                   0\n",
              "ComputerProgramming      0\n",
              "ElectronicsAndSemicon    0\n",
              "ComputerScience          0\n",
              "MechanicalEngg           0\n",
              "ElectricalEngg           0\n",
              "TelecomEngg              0\n",
              "CivilEngg                0\n",
              "conscientiousness        0\n",
              "agreeableness            0\n",
              "extraversion             0\n",
              "nueroticism              0\n",
              "openess_to_experience    0\n",
              "dtype: int64"
            ]
          },
          "metadata": {
            "tags": []
          },
          "execution_count": 6
        }
      ]
    },
    {
      "cell_type": "code",
      "metadata": {
        "colab": {
          "base_uri": "https://localhost:8080/"
        },
        "id": "XWYF3ACY3Be8",
        "outputId": "40793359-220e-4602-aea0-da4e0fa52ce9"
      },
      "source": [
        "df.isnull().sum().sum()"
      ],
      "execution_count": 7,
      "outputs": [
        {
          "output_type": "execute_result",
          "data": {
            "text/plain": [
              "0"
            ]
          },
          "metadata": {
            "tags": []
          },
          "execution_count": 7
        }
      ]
    },
    {
      "cell_type": "code",
      "metadata": {
        "id": "QN3QuXdb3K0k"
      },
      "source": [
        "df.dtypes"
      ],
      "execution_count": null,
      "outputs": []
    },
    {
      "cell_type": "markdown",
      "metadata": {
        "id": "8wdWrh9D4bPJ"
      },
      "source": [
        "Q.is there a gender bias? is there a difference between females performing in schools,colleges and job market?"
      ]
    },
    {
      "cell_type": "code",
      "metadata": {
        "colab": {
          "base_uri": "https://localhost:8080/"
        },
        "id": "sceghrVE4qcz",
        "outputId": "1881e9e5-7a04-494f-bee3-bb96215c4885"
      },
      "source": [
        "df.Gender.unique()"
      ],
      "execution_count": 9,
      "outputs": [
        {
          "output_type": "execute_result",
          "data": {
            "text/plain": [
              "array(['f', 'm'], dtype=object)"
            ]
          },
          "metadata": {
            "tags": []
          },
          "execution_count": 9
        }
      ]
    }
  ]
}